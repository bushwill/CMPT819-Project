{
 "cells": [
  {
   "cell_type": "code",
   "execution_count": null,
   "id": "5ccade5d",
   "metadata": {},
   "outputs": [],
   "source": [
    "import numpy as np\n",
    "import matplotlib.pyplot as plt\n",
    "import skimage.feature as feat\n",
    "import skimage.data as data\n",
    "from skimage import io, util\n",
    "import skimage.color as color\n",
    "import matplotlib.pyplot as plt"
   ]
  },
  {
   "cell_type": "code",
   "execution_count": null,
   "id": "00f4d762",
   "metadata": {},
   "outputs": [],
   "source": [
    "# img = io.imread('images/test/giant-rubber-duck.avif')\n",
    "img = io.imread('images/board.jpg')\n",
    "plt.imshow(util.img_as_ubyte(img)); \n",
    "plt.axis('off'); \n",
    "plt.show()"
   ]
  },
  {
   "cell_type": "code",
   "execution_count": null,
   "id": "2aab71a3",
   "metadata": {},
   "outputs": [],
   "source": [
    "gray_image = color.rgb2gray(img)\n",
    "# low_threshold and high_threshold defaults are .1 and .2\n",
    "edges = feat.canny(gray_image, low_threshold=.1, high_threshold=0.2, sigma=2)\n",
    "plt.axis('off')\n",
    "plt.imshow(edges, cmap='gray')"
   ]
  },
  {
   "cell_type": "code",
   "execution_count": null,
   "id": "55486d28",
   "metadata": {},
   "outputs": [],
   "source": [
    "hsv = color.rgb2hsv(img)\n",
    "H = hsv[..., 0]\n",
    "S = hsv[..., 1]\n",
    "V = hsv[..., 2]\n",
    "\n",
    "mask = ((H >= 0.04) & (H <= 0.17)) & (S >= 0.4) & (V >= 0.3)\n",
    "\n",
    "gray = color.rgb2gray(img)\n",
    "gray_masked = gray * mask\n",
    "edges = feat.canny(gray_masked, low_threshold=0.05, high_threshold=0.15, sigma=2)\n",
    "\n",
    "overlay = util.img_as_ubyte(img.copy())\n",
    "overlay[edges] = [255, 0, 255]\n",
    "\n",
    "from matplotlib.colors import ListedColormap\n",
    "purple_cmap = ListedColormap(['#FF0000', '#FFFF00'])\n",
    "\n",
    "fig, axes = plt.subplots(1, 3, figsize=(15,5))\n",
    "axes[0].imshow(util.img_as_ubyte(img)); axes[0].axis('off')\n",
    "axes[0].set_title('RGB image')\n",
    "axes[1].imshow(mask, cmap=purple_cmap, interpolation='nearest')\n",
    "axes[1].axis('off')\n",
    "axes[1].set_title('Yellow/Orange mask')\n",
    "axes[2].imshow(overlay); axes[2].axis('off'); axes[2].set_title('Edges on yellow/orange (magenta overlay)')\n",
    "plt.show()"
   ]
  },
  {
   "cell_type": "markdown",
   "id": "699e881f",
   "metadata": {},
   "source": [
    "## Detecting krokinole pieces (circular pieces)\n",
    "This notebook cell explains and runs a Hough Circle based detector to find circular pieces on the krokinole board photo.\n",
    "\n",
    "How it works:\n",
    "- Convert the image to grayscale and detect edges (Canny).\n",
    "- Run the Hough Circle transform over a range of radii estimated from image size.\n",
    "- Keep the strongest detected circles and overlay them on the original image.\n",
    "\n",
    "Run the next cell to execute the detector. If you get too many/too few detections, open the \"Tuning notes\" cell for parameters to change."
   ]
  },
  {
   "cell_type": "code",
   "execution_count": null,
   "id": "571361a9",
   "metadata": {},
   "outputs": [],
   "source": [
    "# Hough circle detection for krokinole pieces using scikit-image\n",
    "from skimage import feature, color, util, transform, draw\n",
    "import numpy as np\n",
    "import matplotlib.pyplot as plt\n",
    "\n",
    "# Ensure image is available as `img` from earlier cell; if not, load it here (uncomment):\n",
    "# img = io.imread('images/test/giant-rubber-duck.avif')\n",
    "# img = io.imread('images/board.jpg')\n",
    "\n",
    "gray = color.rgb2gray(img)\n",
    "# edge detection (tune sigma as needed)\n",
    "edges = feature.canny(gray, sigma=2)\n",
    "\n",
    "# Estimate radii range from image size:\n",
    "h, w = gray.shape\n",
    "diag = int(np.hypot(h, w))\n",
    "# pieces are relatively small compared to board; choose radii as pixels:\n",
    "min_r = max(8, int(min(h,w) * 0.02))\n",
    "max_r = max(min_r+1, int(min(h,w) * 0.06))\n",
    "radii = np.arange(min_r, max_r, 2)  # step 2 px\n",
    "print(f\"image size: {w}x{h}, searching radii {min_r}..{max_r}\")\n",
    "\n",
    "# Run Hough Circle transform\n",
    "hough_res = transform.hough_circle(edges, radii)\n",
    "\n",
    "# Select the most prominent circles\n",
    "accums, cx, cy, radii_peaks = transform.hough_circle_peaks(hough_res, radii, total_num_peaks=40)\n",
    "\n",
    "# Filter duplicates / nearby centers: keep stronger ones with non-max suppression\n",
    "selected = []\n",
    "for acc, x0, y0, r0 in zip(accums, cx, cy, radii_peaks):\n",
    "    keep = True\n",
    "    for (_, xx, yy, rr) in selected:\n",
    "        if np.hypot(xx - x0, yy - y0) < rr*0.6:\n",
    "            keep = False\n",
    "            break\n",
    "    if keep:\n",
    "        selected.append((acc, x0, y0, r0))\n",
    "\n",
    "# Draw results on overlay\n",
    "overlay = util.img_as_ubyte(img.copy())\n",
    "fig, ax = plt.subplots(1, figsize=(8,8))\n",
    "ax.imshow(overlay)\n",
    "for acc, x0, y0, r0 in selected:\n",
    "    circy, circx = draw.circle_perimeter(int(y0), int(x0), int(r0), shape=overlay.shape)\n",
    "    overlay[circy, circx] = (255, 0, 0)  # red perimeter\n",
    "    ax.plot(x0, y0, 'go', markersize=4)\n",
    "ax.set_title(f\"Detected circles: {len(selected)}\")\n",
    "ax.axis('off')\n",
    "plt.imshow(overlay)\n",
    "plt.show()\n",
    "\n",
    "# Print detected circle parameters\n",
    "for i, (_, x0, y0, r0) in enumerate(selected):\n",
    "    print(f\"circle {i}: center=({int(x0)},{int(y0)}), r={int(r0)})\")"
   ]
  }
 ],
 "metadata": {
  "kernelspec": {
   "display_name": ".venv",
   "language": "python",
   "name": "python3"
  },
  "language_info": {
   "codemirror_mode": {
    "name": "ipython",
    "version": 3
   },
   "file_extension": ".py",
   "mimetype": "text/x-python",
   "name": "python",
   "nbconvert_exporter": "python",
   "pygments_lexer": "ipython3",
   "version": "3.13.7"
  }
 },
 "nbformat": 4,
 "nbformat_minor": 5
}
