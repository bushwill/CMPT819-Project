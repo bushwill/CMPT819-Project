{
 "cells": [
  {
   "cell_type": "code",
   "execution_count": null,
   "id": "5ccade5d",
   "metadata": {},
   "outputs": [],
   "source": [
    "import numpy as np\n",
    "import matplotlib.pyplot as plt\n",
    "import skimage.feature as feat\n",
    "import skimage.data as data\n",
    "from skimage import io, util\n",
    "import skimage.color as color\n",
    "import matplotlib.pyplot as plt"
   ]
  },
  {
   "cell_type": "code",
   "execution_count": null,
   "id": "00f4d762",
   "metadata": {},
   "outputs": [],
   "source": [
    "img = io.imread('images/test/giant-rubber-duck.avif')\n",
    "#img = io.imread('images/board.jpg')\n",
    "plt.imshow(util.img_as_ubyte(img)); \n",
    "plt.axis('off'); \n",
    "plt.show()"
   ]
  },
  {
   "cell_type": "code",
   "execution_count": null,
   "id": "2aab71a3",
   "metadata": {},
   "outputs": [],
   "source": [
    "gray_image = color.rgb2gray(img)\n",
    "# low_threshold and high_threshold defaults are .1 and .2 respectively.\n",
    "edges = feat.canny(gray_image, low_threshold=.1, high_threshold=0.2, sigma=2)\n",
    "plt.axis('off')\n",
    "plt.imshow(edges, cmap='gray')"
   ]
  },
  {
   "cell_type": "code",
   "execution_count": null,
   "id": "55486d28",
   "metadata": {},
   "outputs": [],
   "source": [
    "# Edge detection only on yellow/orange objects (visualize mask as purple on black)\n",
    "# Ensure img is loaded\n",
    "try:\n",
    "    img\n",
    "except NameError:\n",
    "    from skimage import io\n",
    "    img = io.imread('images/board.jpg')\n",
    "\n",
    "# Ensure RGB\n",
    "if img.ndim == 2:\n",
    "    img_rgb = color.gray2rgb(img)\n",
    "else:\n",
    "    img_rgb = img\n",
    "\n",
    "# Convert RGB to HSV to threshold yellow/orange\n",
    "from skimage.color import rgb2hsv\n",
    "hsv = rgb2hsv(img_rgb)\n",
    "H = hsv[..., 0]\n",
    "S = hsv[..., 1]\n",
    "V = hsv[..., 2]\n",
    "\n",
    "# Define hue ranges for yellow/orange (approx): yellow ~ 0.10-0.17, orange ~0.04-0.10\n",
    "# We'll accept a broader band to include both\n",
    "mask = ((H >= 0.04) & (H <= 0.17)) & (S >= 0.4) & (V >= 0.3)\n",
    "\n",
    "# Mask the grayscale image and run Canny on masked area\n",
    "gray = color.rgb2gray(img_rgb)\n",
    "# Set non-masked areas to 0 to avoid edges there\n",
    "gray_masked = gray * mask\n",
    "edges = feat.canny(gray_masked, low_threshold=0.05, high_threshold=0.15, sigma=2)\n",
    "\n",
    "# Create overlay: yellow edges on the RGB image\n",
    "overlay = util.img_as_ubyte(img_rgb.copy())\n",
    "overlay[edges] = [255, 200, 0]  # yellow/orange color for edges\n",
    "\n",
    "# Display with mask shown as purple on black\n",
    "from matplotlib.colors import ListedColormap\n",
    "purple_cmap = ListedColormap(['#FF0000', '#FFFF00'])  # black background, yellow for mask\n",
    "\n",
    "fig, axes = plt.subplots(1, 3, figsize=(15,5))\n",
    "axes[0].imshow(util.img_as_ubyte(img_rgb)); axes[0].axis('off'); axes[0].set_title('RGB image')\n",
    "axes[1].imshow(mask, cmap=purple_cmap, interpolation='nearest'); axes[1].axis('off'); axes[1].set_title('Yellow/Orange mask')\n",
    "axes[2].imshow(overlay); axes[2].axis('off'); axes[2].set_title('Edges on yellow/orange (yellow overlay)')\n",
    "plt.show()"
   ]
  }
 ],
 "metadata": {
  "kernelspec": {
   "display_name": ".venv",
   "language": "python",
   "name": "python3"
  },
  "language_info": {
   "codemirror_mode": {
    "name": "ipython",
    "version": 3
   },
   "file_extension": ".py",
   "mimetype": "text/x-python",
   "name": "python",
   "nbconvert_exporter": "python",
   "pygments_lexer": "ipython3",
   "version": "3.13.7"
  }
 },
 "nbformat": 4,
 "nbformat_minor": 5
}
